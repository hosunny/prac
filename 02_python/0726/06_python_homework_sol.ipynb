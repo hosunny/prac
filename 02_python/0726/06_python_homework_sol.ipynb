{
 "cells": [
  {
   "cell_type": "markdown",
   "metadata": {},
   "source": [
    "### 1. Built-in 함수와 메서드\n",
    "sorted()와 .sort()의 차이점을 코드의 실행 결과를 활용하여 설명하시오"
   ]
  },
  {
   "cell_type": "code",
   "execution_count": 4,
   "metadata": {},
   "outputs": [
    {
     "name": "stdout",
     "output_type": "stream",
     "text": [
      "None\n",
      "[1, 4, 8, 10, 16, 20]\n"
     ]
    }
   ],
   "source": [
    "numbers = [20, 10, 4, 16, 8, 1]\n",
    "\n",
    "result1 = numbers.sort()\n",
    "print(result1)\n",
    "print(numbers)"
   ]
  },
  {
   "cell_type": "code",
   "execution_count": 3,
   "metadata": {},
   "outputs": [
    {
     "name": "stdout",
     "output_type": "stream",
     "text": [
      "numbers: [20, 10, 4, 16, 8, 1]\n",
      "result2: [1, 4, 8, 10, 16, 20]\n"
     ]
    }
   ],
   "source": [
    "numbers = [20, 10, 4, 16, 8, 1]\n",
    "result2 = sorted(numbers)\n",
    "\n",
    "print('numbers:', numbers)\n",
    "print('result2:', result2)"
   ]
  },
  {
   "cell_type": "markdown",
   "metadata": {},
   "source": [
    "### 2. .extend()와 .append()\n",
    ".extend()와 .append()의 차이점을 코드의 실행 결과를 활용하여 설명하시오"
   ]
  },
  {
   "cell_type": "code",
   "execution_count": 5,
   "metadata": {},
   "outputs": [
    {
     "name": "stdout",
     "output_type": "stream",
     "text": [
      "['김보경', '김수민', '김희제', '김민수']\n"
     ]
    }
   ],
   "source": [
    "list1 = ['김보경', '김수민', '김희제']\n",
    "list1.append('김민수')\n",
    "print(list1)"
   ]
  },
  {
   "cell_type": "code",
   "execution_count": 6,
   "metadata": {},
   "outputs": [],
   "source": [
    "list1.extend('김도원')"
   ]
  },
  {
   "cell_type": "code",
   "execution_count": 7,
   "metadata": {},
   "outputs": [
    {
     "name": "stdout",
     "output_type": "stream",
     "text": [
      "['김보경', '김수민', '김희제', '김민수', '김', '도', '원']\n"
     ]
    }
   ],
   "source": [
    "print(list1)"
   ]
  },
  {
   "cell_type": "code",
   "execution_count": 9,
   "metadata": {},
   "outputs": [
    {
     "name": "stdout",
     "output_type": "stream",
     "text": [
      "['김보경', '김수민', '김희제', '김민수', '김', '도', '원', 30]\n"
     ]
    }
   ],
   "source": [
    "list1.extend([30])\n",
    "print(list1)"
   ]
  },
  {
   "cell_type": "code",
   "execution_count": 10,
   "metadata": {},
   "outputs": [
    {
     "name": "stdout",
     "output_type": "stream",
     "text": [
      "['김보경', '김수민', '김희제', '김민수', '김', '도', '원', 30, 40, 50]\n"
     ]
    }
   ],
   "source": [
    "list1.extend([40, 50])\n",
    "print(list1)"
   ]
  },
  {
   "cell_type": "code",
   "execution_count": 11,
   "metadata": {},
   "outputs": [
    {
     "name": "stdout",
     "output_type": "stream",
     "text": [
      "['김보경', '김수민', '김희제', '김민수', '김', '도', '원', 30, 40, 50, [60, 70, 80]]\n"
     ]
    }
   ],
   "source": [
    "list1.append([60, 70,80])\n",
    "print(list1)"
   ]
  },
  {
   "cell_type": "markdown",
   "metadata": {},
   "source": [
    "### 3. 복사가 잘 된건가?\n",
    "\n",
    "변수 b에는 변수 a에 담긴 리스트의 \"참조 값\"이 들어있다.\n",
    "\n",
    "따라서 `a[2] = 5`와 같이 원본을 바꾸게 되면 b를 출력했을 때도 해당 인덱스의 값이 같이 변해있는 것을 확인할 수 있다."
   ]
  },
  {
   "cell_type": "code",
   "execution_count": 12,
   "metadata": {},
   "outputs": [
    {
     "name": "stdout",
     "output_type": "stream",
     "text": [
      "[1, 2, 5]\n",
      "[1, 2, 5]\n"
     ]
    }
   ],
   "source": [
    "a = [1, 2, 3]\n",
    "b = a\n",
    "a[2] = 5\n",
    "print(a)\n",
    "print(b)\n"
   ]
  },
  {
   "cell_type": "code",
   "execution_count": null,
   "metadata": {},
   "outputs": [],
   "source": []
  }
 ],
 "metadata": {
  "kernelspec": {
   "display_name": "Python 3.9.13 64-bit",
   "language": "python",
   "name": "python3"
  },
  "language_info": {
   "codemirror_mode": {
    "name": "ipython",
    "version": 3
   },
   "file_extension": ".py",
   "mimetype": "text/x-python",
   "name": "python",
   "nbconvert_exporter": "python",
   "pygments_lexer": "ipython3",
   "version": "3.9.13"
  },
  "orig_nbformat": 4,
  "vscode": {
   "interpreter": {
    "hash": "c4b9ebf4ca459396e2ad1150752490c26670c1a037c08cad955a4425787bec2e"
   }
  }
 },
 "nbformat": 4,
 "nbformat_minor": 2
}
