{
 "cells": [
  {
   "cell_type": "markdown",
   "id": "f44cc0b2",
   "metadata": {},
   "source": [
    "# Python 07. 객체 지향 프로그래밍\n"
   ]
  },
  {
   "cell_type": "markdown",
   "id": "39061f07",
   "metadata": {},
   "source": [
    "### 1. Type Class\n",
    "Python은 객체 지향 프로그래밍 언어이다. Python에서 기본적으로 정의되어 있는\u000b",
    "클래스를 최소 5가지 이상 작성하시오.\n"
   ]
  },
  {
   "cell_type": "code",
   "execution_count": 6,
   "id": "9a093d62",
   "metadata": {},
   "outputs": [
    {
     "name": "stdout",
     "output_type": "stream",
     "text": [
      "<class 'int'>\n"
     ]
    }
   ],
   "source": [
    "#int, float, str, map, zip.....\n",
    "print(int)"
   ]
  },
  {
   "cell_type": "code",
   "execution_count": 7,
   "id": "66e7f0f6",
   "metadata": {},
   "outputs": [
    {
     "name": "stdout",
     "output_type": "stream",
     "text": [
      "<class 'map'>\n"
     ]
    }
   ],
   "source": [
    "print(map)"
   ]
  },
  {
   "cell_type": "markdown",
   "id": "b999be9c",
   "metadata": {},
   "source": [
    "### 2. Magic Method\n",
    "아래에 제시된 매직 메서드들이 각각 어떠한 역할을 하는지 간단하게 작성하시오.\n",
    "\n",
    "```python\n",
    "\n",
    "_ _init_ _, _ _del_ _, _ _str_ _, _ _repr_ _"
   ]
  },
  {
   "cell_type": "markdown",
   "id": "9581eb09",
   "metadata": {},
   "source": [
    "__init__ : 인스턴스가 생성될 때( 메모리에 올라올 때)\n",
    "\n",
    "__del__ :  인스턴스가 소멸할 때( 메모리에서 삭제될 때)\n",
    "\n",
    "__str__ :  인스턴스가 print()할때 보여지는 값 ( 인스턴의 문자열 버전) \n",
    "\n",
    "__repr__ : 인스턴스 자체가 반환할 값\n",
    "    "
   ]
  },
  {
   "cell_type": "code",
   "execution_count": 16,
   "id": "bc19c3ce",
   "metadata": {},
   "outputs": [],
   "source": [
    "list1 = [1, 2, 3]\n",
    "str1 = 'apple'\n",
    "int1 = 100"
   ]
  },
  {
   "cell_type": "code",
   "execution_count": 17,
   "id": "054bc047",
   "metadata": {},
   "outputs": [
    {
     "name": "stdout",
     "output_type": "stream",
     "text": [
      "[1, 2, 3] apple 100\n"
     ]
    }
   ],
   "source": [
    "print(list1, str1, int1)"
   ]
  },
  {
   "cell_type": "markdown",
   "id": "e30f1550",
   "metadata": {},
   "source": [
    "### 3. Instance Method\n",
    ".sort() 와 같이 문자열, 리스트, 딕셔너리 등을 조작 할 때 사용하였던 것들은 클래스에 정의된 메서드들이었다. 이처럼 문자열, 리스트, 딕셔너리 등을 조작하는 메서드를 최소 3가지 이상 그 역할과 함께 작성하시오.\n"
   ]
  },
  {
   "cell_type": "markdown",
   "id": "4d801f51",
   "metadata": {},
   "source": [
    "*  list method\n",
    "1. .append() : \n",
    "2. .extend()\n",
    "3. .sort()\n",
    "\n",
    "* str method\n",
    "1. .upper():\n",
    "2. .lower():\n",
    "3. .swapcase():\n",
    "\n",
    "* dict\n",
    "1. .get()\n",
    "2. .update()\n",
    "3. .keys()\n"
   ]
  },
  {
   "cell_type": "code",
   "execution_count": null,
   "id": "2afc7348",
   "metadata": {},
   "outputs": [],
   "source": []
  },
  {
   "cell_type": "markdown",
   "id": "bce77ba7",
   "metadata": {},
   "source": [
    "### 4.오류의 종류\n",
    "아래에 제시된 오류들이 각각 어떠한 경우에 발생하는지 간단하게 작성하시오\n",
    "\n",
    "ZeroDivisionError, NameError, TypeError, IndexError,\n",
    "\n",
    "KeyError, ModuleNotFoundError, ImportError"
   ]
  },
  {
   "cell_type": "markdown",
   "id": "a1a5df75",
   "metadata": {},
   "source": [
    "ZeroDivisionError # 0으로 나누려고 할 때\n",
    "\n",
    "   NameError # 정의 되지 않은 변수 사용\n",
    "   \n",
    "   TypeError # 자료형에 대한 잘못된 사용\n",
    "   \n",
    "   IndexError # Index 범위를 벗어나서 참조하려 할 때\n",
    "   \n",
    "   KeyError # Dict에 없는 Key를 찾으려 할 때\n",
    "   \n",
    "   ModuleNotFoundError # 모듈을 찾을 수 없는 경우\n",
    "   \n",
    "   ImportError # 모듈은 있으나 없는 클래스나 메소드를 가져오려 할 때"
   ]
  },
  {
   "cell_type": "code",
   "execution_count": null,
   "id": "3e98a53b",
   "metadata": {},
   "outputs": [],
   "source": []
  },
  {
   "cell_type": "code",
   "execution_count": null,
   "id": "7a4e2e10",
   "metadata": {},
   "outputs": [],
   "source": []
  }
 ],
 "metadata": {
  "kernelspec": {
   "display_name": "Python 3",
   "language": "python",
   "name": "python3"
  },
  "language_info": {
   "codemirror_mode": {
    "name": "ipython",
    "version": 3
   },
   "file_extension": ".py",
   "mimetype": "text/x-python",
   "name": "python",
   "nbconvert_exporter": "python",
   "pygments_lexer": "ipython3",
   "version": "3.8.8"
  }
 },
 "nbformat": 4,
 "nbformat_minor": 5
}
