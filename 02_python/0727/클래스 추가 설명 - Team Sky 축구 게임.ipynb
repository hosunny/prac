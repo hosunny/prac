{
 "cells": [
  {
   "cell_type": "markdown",
   "id": "39aab8f0",
   "metadata": {},
   "source": [
    "# 클래스 - Team Sky 축구 게임"
   ]
  },
  {
   "cell_type": "markdown",
   "id": "2d6269cf",
   "metadata": {},
   "source": [
    "* 축구단 Team Sky를 구성할 각각의 선수를 프로그래밍하기"
   ]
  },
  {
   "attachments": {},
   "cell_type": "markdown",
   "id": "0da76629",
   "metadata": {},
   "source": [
    "![image-2.png](image1.png)"
   ]
  },
  {
   "cell_type": "markdown",
   "id": "652cb353",
   "metadata": {},
   "source": [
    "* 클래스 선언"
   ]
  },
  {
   "cell_type": "code",
   "execution_count": null,
   "id": "dafb3de0",
   "metadata": {},
   "outputs": [],
   "source": []
  },
  {
   "cell_type": "code",
   "execution_count": null,
   "id": "fa35efc6",
   "metadata": {},
   "outputs": [],
   "source": []
  },
  {
   "cell_type": "code",
   "execution_count": null,
   "id": "92c25068",
   "metadata": {},
   "outputs": [],
   "source": []
  },
  {
   "cell_type": "markdown",
   "id": "6466d7d3",
   "metadata": {},
   "source": [
    "* team sky 선수가 가져야 하는 속성과 기능\n",
    "\n",
    "- 1. 모든 선수가 가져야 하는 속성: 팀이름, 이름, 등번호\n",
    "- 2. 모든 선수가 가져야 하는 기능: 드리블, 패스 기능\n",
    "- 3. 각각의 선수가 가져야 하는 기능: 역할별 기능( 공격하기, 공 배분하기, 수비하기, 슛 막기....)\n"
   ]
  },
  {
   "cell_type": "code",
   "execution_count": null,
   "id": "a01cc4ba",
   "metadata": {},
   "outputs": [],
   "source": []
  },
  {
   "cell_type": "code",
   "execution_count": null,
   "id": "b83a1389",
   "metadata": {},
   "outputs": [],
   "source": []
  }
 ],
 "metadata": {
  "kernelspec": {
   "display_name": "Python 3",
   "language": "python",
   "name": "python3"
  },
  "language_info": {
   "codemirror_mode": {
    "name": "ipython",
    "version": 3
   },
   "file_extension": ".py",
   "mimetype": "text/x-python",
   "name": "python",
   "nbconvert_exporter": "python",
   "pygments_lexer": "ipython3",
   "version": "3.8.8"
  }
 },
 "nbformat": 4,
 "nbformat_minor": 5
}
