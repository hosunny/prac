{
 "cells": [
  {
   "cell_type": "markdown",
   "id": "1114d63e",
   "metadata": {},
   "source": [
    "# Python 07. 객체 지향 프로그래밍"
   ]
  },
  {
   "cell_type": "markdown",
   "id": "1ae58e96",
   "metadata": {},
   "source": [
    "Faker는 개발시 활용할 수 있는 가상의 데이터를 생성해주는 파이썬 패키지이다. \n",
    "워크샵에 등장하는 코드는 모두 Github(https://github.com/joke2k/faker) 문서의 예제이다. \u000b",
    "지금까지 배운 파이썬 개념을 활용하여 해석 하시오"
   ]
  },
  {
   "cell_type": "code",
   "execution_count": null,
   "id": "e62837d1",
   "metadata": {},
   "outputs": [],
   "source": [
    "import faker"
   ]
  },
  {
   "cell_type": "code",
   "execution_count": null,
   "id": "3c0febc7",
   "metadata": {},
   "outputs": [],
   "source": [
    "#!pip install faker"
   ]
  },
  {
   "cell_type": "markdown",
   "id": "e5dce623",
   "metadata": {},
   "source": [
    "### 1. pip\n",
    "아래 명령어는 (1) 무엇을 위한 명령인지 (2) 실행은 어디에서 해야하는지 작성 하시오. \n",
    "```python \n",
    "$pip install faker"
   ]
  },
  {
   "cell_type": "code",
   "execution_count": null,
   "id": "4fe11bbb",
   "metadata": {},
   "outputs": [],
   "source": []
  },
  {
   "cell_type": "markdown",
   "id": "d1bde4f9",
   "metadata": {},
   "source": [
    "### 2. Basic Usages(https://github.com/joke2k/faker#basic-usage)\n",
    "Faker는 다양한 메서드를 통해 임의의 결과값을 반환해준다. 임의의 영문 이름을 반환하는 아래 코드에서 라인별 의미를 주석을 참고하여 작성하시오."
   ]
  },
  {
   "cell_type": "code",
   "execution_count": null,
   "id": "e193c9b7",
   "metadata": {},
   "outputs": [],
   "source": [
    "from faker import Faker # 1 _ _ _ _ _을 하기 위한 코드이다.\n",
    "fake = Faker()          # 2 Faker는 _ _ _ _ _, fake는 _ _ _ _ _이다. \n",
    "fake.name()             # 3 name()은 fake의 _ _ _ _ _이다."
   ]
  },
  {
   "cell_type": "code",
   "execution_count": null,
   "id": "12525312",
   "metadata": {},
   "outputs": [],
   "source": []
  },
  {
   "cell_type": "markdown",
   "id": "bfe85b86",
   "metadata": {},
   "source": [
    "### 3. Localization(https://github.com/joke2k/faker#localization)\n",
    "Faker는 다양한 언어의 Locale을 지원한다.\n",
    "1. 인자 없이 호출 시에는 영문이 기본 설정이다. (en_US)\n",
    "\n",
    "fake = Faker()\n",
    "\n",
    "fake.name()  # => ‘Shelly Wilcox` (랜덤이므로 결과 값이 다를 수 있음)\n",
    "\n",
    "2. locale 정보를 포함하여 호출 시에는 해당 언어 설정을 따른다.\n",
    "\n",
    "fake_ko = Faker(’ko_KR’)\n",
    "\n",
    "fake_ko.name()  # => ’배송윤’ (랜덤이므로 결과 값이 다를 수 있음)\n",
    "\n",
    "직접 해당하는 기능을 구현한다고 하였을 때, 빈칸 (a), (b), (c)에 들어갈 코드로\n",
    "적절한 것을 작성하시오. (힌트: 생성자 메서드와 함수의 개념)\n",
    "\n",
    "\n",
    "class Faker():\n",
    "\n",
    "def _ _(a)_ _((b), (c)):\n",
    "\n",
    "    pass"
   ]
  },
  {
   "cell_type": "code",
   "execution_count": null,
   "id": "f3ac556c",
   "metadata": {},
   "outputs": [],
   "source": [
    "\n"
   ]
  },
  {
   "cell_type": "markdown",
   "id": "6a033f28",
   "metadata": {},
   "source": [
    "### 4. Seeding the Generator(https://github.com/joke2k/faker#seeding-the-generator)\n",
    "컴퓨터 프로그래밍에서 임의의 값을 반환하는 경우(난수 생성 등) 시드라는 개념이 있다.\n",
    "시드를 설정하게 되면 동일한 순서로 난수를 발생시킬 수 있어 일반적으로 디버깅을\n",
    "위하여 활용 된다."
   ]
  },
  {
   "cell_type": "code",
   "execution_count": null,
   "id": "c9495e3b",
   "metadata": {},
   "outputs": [],
   "source": [
    "import random\n",
    "random.random() # => 임의의 수\n",
    "random.random() # => 임의의 수\n",
    "random.seed(7777)\n",
    "random.random() # => 0.8170477907294282\n",
    "\n",
    "random.seed(8888)\n",
    "random.random() # => 0.5765870569118247"
   ]
  },
  {
   "cell_type": "markdown",
   "id": "63be3146",
   "metadata": {},
   "source": [
    "1. 아래의 코드를 실행 했을 때, #1과 #2에서 출력되는 결과를 각각 작성하고,\n",
    "seed()는 어떤 종류의 메서드인지 작성하시오."
   ]
  },
  {
   "cell_type": "code",
   "execution_count": null,
   "id": "71a8da2d",
   "metadata": {},
   "outputs": [],
   "source": [
    "fake1 = Faker('ko_KR')\n",
    "Faker.seed(87654321)\n",
    "\n",
    "print(fake1.name()) # 1\n",
    "\n",
    "fake2 = Faker('ko_KR')\n",
    "print(fake2.name()) # 2"
   ]
  },
  {
   "cell_type": "markdown",
   "id": "a2f9bd24",
   "metadata": {},
   "source": [
    "2. 아래의 코드를 실행 했을 때, #1과 #2에서 출력되는 결과를 각각 작성하고,\n",
    "seed_instance()는 어떤 종류의 메서드인지 작성하시오."
   ]
  },
  {
   "cell_type": "code",
   "execution_count": null,
   "id": "befe8e39",
   "metadata": {},
   "outputs": [],
   "source": [
    "fake1 = Faker(’ko_KR’)\n",
    "fake1.seed_instance(87654321)\n",
    "\n",
    "print(fake1.name()) # 1\n",
    "\n",
    "fake2 = Faker(’ko_KR’)\n",
    "print(fake2.name()) # 2"
   ]
  },
  {
   "cell_type": "code",
   "execution_count": null,
   "id": "b8d63c99",
   "metadata": {},
   "outputs": [],
   "source": []
  }
 ],
 "metadata": {
  "kernelspec": {
   "display_name": "Python 3",
   "language": "python",
   "name": "python3"
  },
  "language_info": {
   "codemirror_mode": {
    "name": "ipython",
    "version": 3
   },
   "file_extension": ".py",
   "mimetype": "text/x-python",
   "name": "python",
   "nbconvert_exporter": "python",
   "pygments_lexer": "ipython3",
   "version": "3.8.8"
  }
 },
 "nbformat": 4,
 "nbformat_minor": 5
}
