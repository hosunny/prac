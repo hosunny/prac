{
 "cells": [
  {
   "cell_type": "markdown",
   "id": "37fa1a66",
   "metadata": {},
   "source": [
    "## 참고 : decorator 사용하기"
   ]
  },
  {
   "cell_type": "code",
   "execution_count": 1,
   "id": "85b85f35",
   "metadata": {},
   "outputs": [],
   "source": [
    "# decorator 없이 사용하기\n",
    "def hello():\n",
    "    print(\"hello\")\n",
    "    \n",
    "def add_print(original):\n",
    "    def wrapper():\n",
    "        print(\"함수시작\")\n",
    "        original()\n",
    "        print(\"함수 끝\")\n",
    "    return wrapper\n"
   ]
  },
  {
   "cell_type": "code",
   "execution_count": 2,
   "id": "0020c0e2",
   "metadata": {},
   "outputs": [
    {
     "name": "stdout",
     "output_type": "stream",
     "text": [
      "함수시작\n",
      "hello\n",
      "함수 끝\n"
     ]
    }
   ],
   "source": [
    "add_print(hello)()"
   ]
  },
  {
   "cell_type": "code",
   "execution_count": 3,
   "id": "674e0d30",
   "metadata": {},
   "outputs": [
    {
     "name": "stdout",
     "output_type": "stream",
     "text": [
      "함수시작\n",
      "hello\n",
      "함수 끝\n"
     ]
    }
   ],
   "source": [
    "print_hello = add_print(hello)\n",
    "print_hello()"
   ]
  },
  {
   "cell_type": "code",
   "execution_count": 5,
   "id": "38faf6a3",
   "metadata": {},
   "outputs": [],
   "source": [
    "# 데코레이터 문법을 사용한 경우\n",
    "@add_print\n",
    "def print_hello():\n",
    "    print(\"hello\")\n",
    "    "
   ]
  },
  {
   "cell_type": "code",
   "execution_count": 6,
   "id": "de64a270",
   "metadata": {},
   "outputs": [
    {
     "name": "stdout",
     "output_type": "stream",
     "text": [
      "함수시작\n",
      "hello\n",
      "함수 끝\n"
     ]
    }
   ],
   "source": [
    "print_hello()"
   ]
  },
  {
   "cell_type": "code",
   "execution_count": null,
   "id": "227bedc6",
   "metadata": {},
   "outputs": [],
   "source": []
  },
  {
   "cell_type": "code",
   "execution_count": 7,
   "id": "5b3828cd",
   "metadata": {},
   "outputs": [],
   "source": [
    "# 데코레이터 함수를 이용한 예\n",
    "import datetime\n",
    "def calc_time(original):\n",
    "    def wrapper():\n",
    "        print(datetime.datetime.now())\n",
    "        original()\n",
    "        print(datetime.datetime.now())\n",
    "    return wrapper\n"
   ]
  },
  {
   "cell_type": "code",
   "execution_count": 8,
   "id": "9c3b37e8",
   "metadata": {},
   "outputs": [],
   "source": [
    "@calc_time\n",
    "def calc_for():\n",
    "    list1 = []\n",
    "    for i in range(100000000):\n",
    "        list1.append(i)\n",
    "    "
   ]
  },
  {
   "cell_type": "code",
   "execution_count": 9,
   "id": "8a5493ef",
   "metadata": {},
   "outputs": [],
   "source": [
    "@calc_time\n",
    "def calc_comprehension():\n",
    "    list1 = [ i for i in range(100000000)]\n",
    "    "
   ]
  },
  {
   "cell_type": "code",
   "execution_count": 10,
   "id": "ca9cf4d0",
   "metadata": {},
   "outputs": [
    {
     "name": "stdout",
     "output_type": "stream",
     "text": [
      "2022-07-27 16:44:33.141602\n",
      "2022-07-27 16:44:43.311938\n"
     ]
    }
   ],
   "source": [
    "calc_for()"
   ]
  },
  {
   "cell_type": "code",
   "execution_count": 11,
   "id": "c5865c22",
   "metadata": {},
   "outputs": [
    {
     "name": "stdout",
     "output_type": "stream",
     "text": [
      "2022-07-27 16:45:13.708239\n",
      "2022-07-27 16:45:19.533314\n"
     ]
    }
   ],
   "source": [
    "calc_comprehension()"
   ]
  },
  {
   "cell_type": "markdown",
   "id": "cfaf7c57",
   "metadata": {},
   "source": [
    "## 물음표 빌런에게 함께 답하기"
   ]
  },
  {
   "cell_type": "code",
   "execution_count": 13,
   "id": "c996a82d",
   "metadata": {},
   "outputs": [],
   "source": [
    "class Person:\n",
    "    count = 0  # 클래스 변수\n",
    "    def __init__(self, name):  # 생성자 함수\n",
    "        self.name = name\n",
    "        Person.count = Person.count + 1\n",
    "    \n",
    "    @classmethod\n",
    "    def number_of_population(cls):\n",
    "        print(f'인구수는 {cls.count}입니다')\n",
    "        "
   ]
  },
  {
   "cell_type": "code",
   "execution_count": 14,
   "id": "2258959c",
   "metadata": {},
   "outputs": [],
   "source": [
    "person1 = Person('아이유')"
   ]
  },
  {
   "cell_type": "code",
   "execution_count": 15,
   "id": "9a6a0713",
   "metadata": {},
   "outputs": [
    {
     "data": {
      "text/plain": [
       "'아이유'"
      ]
     },
     "execution_count": 15,
     "metadata": {},
     "output_type": "execute_result"
    }
   ],
   "source": [
    "person1.name"
   ]
  },
  {
   "cell_type": "code",
   "execution_count": 16,
   "id": "fbf4314c",
   "metadata": {},
   "outputs": [],
   "source": [
    "person2 = Person('이찬혁')"
   ]
  },
  {
   "cell_type": "code",
   "execution_count": 17,
   "id": "1ee1677c",
   "metadata": {},
   "outputs": [
    {
     "data": {
      "text/plain": [
       "'이찬혁'"
      ]
     },
     "execution_count": 17,
     "metadata": {},
     "output_type": "execute_result"
    }
   ],
   "source": [
    "person2.name"
   ]
  },
  {
   "cell_type": "code",
   "execution_count": 18,
   "id": "dff2caa0",
   "metadata": {},
   "outputs": [
    {
     "name": "stdout",
     "output_type": "stream",
     "text": [
      "2\n"
     ]
    }
   ],
   "source": [
    "print(Person.count)"
   ]
  },
  {
   "cell_type": "code",
   "execution_count": 19,
   "id": "8d0da5d9",
   "metadata": {},
   "outputs": [],
   "source": [
    "person3 = Person(\"sky\")"
   ]
  },
  {
   "cell_type": "code",
   "execution_count": 20,
   "id": "ab0f9717",
   "metadata": {},
   "outputs": [
    {
     "data": {
      "text/plain": [
       "'sky'"
      ]
     },
     "execution_count": 20,
     "metadata": {},
     "output_type": "execute_result"
    }
   ],
   "source": [
    "person3.name"
   ]
  },
  {
   "cell_type": "code",
   "execution_count": 21,
   "id": "e2ba4c70",
   "metadata": {},
   "outputs": [
    {
     "data": {
      "text/plain": [
       "3"
      ]
     },
     "execution_count": 21,
     "metadata": {},
     "output_type": "execute_result"
    }
   ],
   "source": [
    "Person.count"
   ]
  },
  {
   "cell_type": "code",
   "execution_count": 22,
   "id": "275b4592",
   "metadata": {},
   "outputs": [
    {
     "ename": "AttributeError",
     "evalue": "'Person' object has no attribute 'number_of_polulation'",
     "output_type": "error",
     "traceback": [
      "\u001b[1;31m---------------------------------------------------------------------------\u001b[0m",
      "\u001b[1;31mAttributeError\u001b[0m                            Traceback (most recent call last)",
      "\u001b[1;32m<ipython-input-22-000f10fb597d>\u001b[0m in \u001b[0;36m<module>\u001b[1;34m\u001b[0m\n\u001b[1;32m----> 1\u001b[1;33m \u001b[0mperson1\u001b[0m\u001b[1;33m.\u001b[0m\u001b[0mnumber_of_polulation\u001b[0m\u001b[1;33m(\u001b[0m\u001b[1;33m)\u001b[0m  \u001b[1;31m# number_of_polulation은 클래스 메소드이므로 인스턴스가 쓸 수 없다\u001b[0m\u001b[1;33m\u001b[0m\u001b[1;33m\u001b[0m\u001b[0m\n\u001b[0m",
      "\u001b[1;31mAttributeError\u001b[0m: 'Person' object has no attribute 'number_of_polulation'"
     ]
    }
   ],
   "source": [
    "person1.number_of_polulation()  # number_of_polulation은 클래스 메소드이므로 인스턴스가 쓸 수 없다"
   ]
  },
  {
   "cell_type": "code",
   "execution_count": null,
   "id": "46799f1d",
   "metadata": {},
   "outputs": [],
   "source": []
  },
  {
   "cell_type": "code",
   "execution_count": 23,
   "id": "bea9b1e8",
   "metadata": {},
   "outputs": [
    {
     "name": "stdout",
     "output_type": "stream",
     "text": [
      "인구수는 3입니다\n"
     ]
    }
   ],
   "source": [
    "Person.number_of_population()"
   ]
  },
  {
   "cell_type": "code",
   "execution_count": null,
   "id": "46a5b05b",
   "metadata": {},
   "outputs": [],
   "source": []
  }
 ],
 "metadata": {
  "kernelspec": {
   "display_name": "Python 3",
   "language": "python",
   "name": "python3"
  },
  "language_info": {
   "codemirror_mode": {
    "name": "ipython",
    "version": 3
   },
   "file_extension": ".py",
   "mimetype": "text/x-python",
   "name": "python",
   "nbconvert_exporter": "python",
   "pygments_lexer": "ipython3",
   "version": "3.8.8"
  }
 },
 "nbformat": 4,
 "nbformat_minor": 5
}
