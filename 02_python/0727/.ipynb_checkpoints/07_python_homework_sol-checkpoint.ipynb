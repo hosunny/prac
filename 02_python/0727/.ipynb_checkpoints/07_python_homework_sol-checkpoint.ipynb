{
 "cells": [
  {
   "cell_type": "markdown",
   "id": "2a2b6ddd",
   "metadata": {},
   "source": [
    "# Python 07. 객체 지향 프로그래밍\n"
   ]
  },
  {
   "cell_type": "markdown",
   "id": "74575a88",
   "metadata": {},
   "source": [
    "### 1. Type Class\n",
    "Python은 객체 지향 프로그래밍 언어이다. Python에서 기본적으로 정의되어 있는\u000b",
    "클래스를 최소 5가지 이상 작성하시오.\n"
   ]
  },
  {
   "cell_type": "code",
   "execution_count": 6,
   "id": "f7e329f6",
   "metadata": {},
   "outputs": [
    {
     "name": "stdout",
     "output_type": "stream",
     "text": [
      "<class 'int'>\n"
     ]
    }
   ],
   "source": [
    "#int, float, str, map, zip.....\n",
    "print(int)"
   ]
  },
  {
   "cell_type": "code",
   "execution_count": 7,
   "id": "23b6c1a6",
   "metadata": {},
   "outputs": [
    {
     "name": "stdout",
     "output_type": "stream",
     "text": [
      "<class 'map'>\n"
     ]
    }
   ],
   "source": [
    "print(map)"
   ]
  },
  {
   "cell_type": "markdown",
   "id": "1efda2d0",
   "metadata": {},
   "source": [
    "### 2. Magic Method\n",
    "아래에 제시된 매직 메서드들이 각각 어떠한 역할을 하는지 간단하게 작성하시오.\n",
    "\n",
    "```python\n",
    "\n",
    "_ _init_ _, _ _del_ _, _ _str_ _, _ _repr_ _"
   ]
  },
  {
   "cell_type": "code",
   "execution_count": null,
   "id": "bd28022a",
   "metadata": {},
   "outputs": [],
   "source": [
    "__init__ : 인스턴스가 생성될 때( 메모리에 올라올 때)\n",
    "__del__ :  인스턴스가 소멸할 때( 메모리에서 삭제될 때)\n",
    "__str__ :  인스턴스가 print()할때 보여지는 값 ( 인스턴의 문자열 버전) \n",
    "__repr__ : 인스턴스 자체가 반환할 값\n",
    "    "
   ]
  },
  {
   "cell_type": "code",
   "execution_count": 16,
   "id": "617c458e",
   "metadata": {},
   "outputs": [],
   "source": [
    "list1 = [1, 2, 3]\n",
    "str1 = 'apple'\n",
    "int1 = 100"
   ]
  },
  {
   "cell_type": "code",
   "execution_count": 17,
   "id": "4e42dd88",
   "metadata": {},
   "outputs": [
    {
     "name": "stdout",
     "output_type": "stream",
     "text": [
      "[1, 2, 3] apple 100\n"
     ]
    }
   ],
   "source": [
    "print(list1, str1, int1)"
   ]
  },
  {
   "cell_type": "markdown",
   "id": "033cd14f",
   "metadata": {},
   "source": [
    "### 3. Instance Method\n",
    ".sort() 와 같이 문자열, 리스트, 딕셔너리 등을 조작 할 때 사용하였던 것들은 클래스에 정의된 메서드들이었다. 이처럼 문자열, 리스트, 딕셔너리 등을 조작하는 메서드를 최소 3가지 이상 그 역할과 함께 작성하시오.\n"
   ]
  },
  {
   "cell_type": "markdown",
   "id": "41062eb9",
   "metadata": {},
   "source": [
    "*  list method\n",
    "1. .append() : \n",
    "2. .extend()\n",
    "3. .sort()"
   ]
  },
  {
   "cell_type": "code",
   "execution_count": 19,
   "id": "f07b8882",
   "metadata": {},
   "outputs": [
    {
     "data": {
      "text/plain": [
       "[58, 70, 100]"
      ]
     },
     "execution_count": 19,
     "metadata": {},
     "output_type": "execute_result"
    }
   ],
   "source": []
  },
  {
   "cell_type": "code",
   "execution_count": 20,
   "id": "5f37fab5",
   "metadata": {},
   "outputs": [
    {
     "ename": "AttributeError",
     "evalue": "'dict' object has no attribute 'sort'",
     "output_type": "error",
     "traceback": [
      "\u001b[1;31m---------------------------------------------------------------------------\u001b[0m",
      "\u001b[1;31mAttributeError\u001b[0m                            Traceback (most recent call last)",
      "\u001b[1;32m<ipython-input-20-b8d99c30e527>\u001b[0m in \u001b[0;36m<module>\u001b[1;34m\u001b[0m\n\u001b[0;32m      1\u001b[0m \u001b[0mdict1\u001b[0m \u001b[1;33m=\u001b[0m \u001b[1;33m{\u001b[0m\u001b[1;34m'a'\u001b[0m\u001b[1;33m:\u001b[0m\u001b[1;36m3\u001b[0m\u001b[1;33m,\u001b[0m \u001b[1;34m'c'\u001b[0m\u001b[1;33m:\u001b[0m\u001b[1;36m1\u001b[0m\u001b[1;33m,\u001b[0m \u001b[1;34m'b'\u001b[0m\u001b[1;33m:\u001b[0m\u001b[1;36m2\u001b[0m\u001b[1;33m}\u001b[0m\u001b[1;33m\u001b[0m\u001b[1;33m\u001b[0m\u001b[0m\n\u001b[1;32m----> 2\u001b[1;33m \u001b[0mdict1\u001b[0m\u001b[1;33m.\u001b[0m\u001b[0msort\u001b[0m\u001b[1;33m(\u001b[0m\u001b[1;33m)\u001b[0m\u001b[1;33m\u001b[0m\u001b[1;33m\u001b[0m\u001b[0m\n\u001b[0m\u001b[0;32m      3\u001b[0m \u001b[0mdict1\u001b[0m\u001b[1;33m\u001b[0m\u001b[1;33m\u001b[0m\u001b[0m\n",
      "\u001b[1;31mAttributeError\u001b[0m: 'dict' object has no attribute 'sort'"
     ]
    }
   ],
   "source": []
  },
  {
   "cell_type": "code",
   "execution_count": null,
   "id": "26f3a94f",
   "metadata": {},
   "outputs": [],
   "source": []
  },
  {
   "cell_type": "code",
   "execution_count": null,
   "id": "f4d136aa",
   "metadata": {},
   "outputs": [],
   "source": []
  },
  {
   "cell_type": "markdown",
   "id": "ea30e45c",
   "metadata": {},
   "source": [
    "### 4.오류의 종류\n",
    "아래에 제시된 오류들이 각각 어떠한 경우에 발생하는지 간단하게 작성하시오\n",
    "\n",
    "ZeroDivisionError, NameError, TypeError, IndexError,\n",
    "\n",
    "KeyError, ModuleNotFoundError, ImportError"
   ]
  },
  {
   "cell_type": "code",
   "execution_count": null,
   "id": "47a77e1b",
   "metadata": {},
   "outputs": [],
   "source": []
  },
  {
   "cell_type": "code",
   "execution_count": null,
   "id": "5b78be95",
   "metadata": {},
   "outputs": [],
   "source": []
  },
  {
   "cell_type": "markdown",
   "id": "fb12d0a5",
   "metadata": {},
   "source": [
    "## 참고 : decorator 사용하기"
   ]
  },
  {
   "cell_type": "code",
   "execution_count": 22,
   "id": "ead60ad5",
   "metadata": {},
   "outputs": [],
   "source": [
    "# decorator 없이 사용하기\n",
    "def hello():\n",
    "    print(\"hello\")\n",
    "    \n",
    "def add_print(original):\n",
    "    def wrapper():\n",
    "        print(\"함수시작\")\n",
    "        original()\n",
    "        print(\"함수 끝\")\n",
    "    return wrapper\n"
   ]
  },
  {
   "cell_type": "code",
   "execution_count": 23,
   "id": "9fef4e61",
   "metadata": {},
   "outputs": [
    {
     "name": "stdout",
     "output_type": "stream",
     "text": [
      "함수시작\n",
      "hello\n",
      "함수 끝\n"
     ]
    }
   ],
   "source": [
    "add_print(hello)()"
   ]
  },
  {
   "cell_type": "code",
   "execution_count": 24,
   "id": "d3d1ffac",
   "metadata": {},
   "outputs": [
    {
     "name": "stdout",
     "output_type": "stream",
     "text": [
      "함수시작\n",
      "hello\n",
      "함수 끝\n"
     ]
    }
   ],
   "source": [
    "print_hello = add_print(hello)\n",
    "print_hello()"
   ]
  },
  {
   "cell_type": "code",
   "execution_count": 25,
   "id": "088b1915",
   "metadata": {},
   "outputs": [],
   "source": [
    "# 데코레이터 문법을 사용한 경우\n",
    "@add_print\n",
    "def print_hello():\n",
    "    print(\"hello\")\n",
    "    "
   ]
  },
  {
   "cell_type": "code",
   "execution_count": 26,
   "id": "5e748efd",
   "metadata": {},
   "outputs": [
    {
     "name": "stdout",
     "output_type": "stream",
     "text": [
      "함수시작\n",
      "hello\n",
      "함수 끝\n"
     ]
    }
   ],
   "source": [
    "print_hello()"
   ]
  },
  {
   "cell_type": "code",
   "execution_count": 35,
   "id": "ba2b7c00",
   "metadata": {},
   "outputs": [],
   "source": [
    "# 데코레이터 함수를 이용한 예\n",
    "import datetime\n",
    "def calc_time(original):\n",
    "    def wrapper():\n",
    "        print(datetime.datetime.now())\n",
    "        original()\n",
    "        print(datetime.datetime.now())\n",
    "    return wrapper\n"
   ]
  },
  {
   "cell_type": "code",
   "execution_count": 36,
   "id": "00819187",
   "metadata": {},
   "outputs": [],
   "source": [
    "@calc_time\n",
    "def calc_for():\n",
    "    list1 = []\n",
    "    for i in range(100000000):\n",
    "        list1.append(i)\n",
    "    "
   ]
  },
  {
   "cell_type": "code",
   "execution_count": 37,
   "id": "a2f8059b",
   "metadata": {},
   "outputs": [],
   "source": [
    "@calc_time\n",
    "def calc_comprehension():\n",
    "    list1 = [ i for i in range(100000000)]\n",
    "    "
   ]
  },
  {
   "cell_type": "code",
   "execution_count": 38,
   "id": "0d0c82e1",
   "metadata": {},
   "outputs": [
    {
     "name": "stdout",
     "output_type": "stream",
     "text": [
      "2022-07-27 14:12:43.664173\n",
      "2022-07-27 14:12:50.811580\n"
     ]
    }
   ],
   "source": [
    "calc_for()"
   ]
  },
  {
   "cell_type": "code",
   "execution_count": 39,
   "id": "9753b9fd",
   "metadata": {},
   "outputs": [
    {
     "name": "stdout",
     "output_type": "stream",
     "text": [
      "2022-07-27 14:13:09.928725\n",
      "2022-07-27 14:13:14.499715\n"
     ]
    }
   ],
   "source": [
    "calc_comprehension()"
   ]
  },
  {
   "cell_type": "markdown",
   "id": "bb55c80e",
   "metadata": {},
   "source": [
    "## 물음표 빌런에게 함께 답하기"
   ]
  },
  {
   "cell_type": "code",
   "execution_count": 40,
   "id": "0a2e6310",
   "metadata": {},
   "outputs": [],
   "source": [
    "class Person:\n",
    "    count = 0\n",
    "    def __init__(self, name):\n",
    "        self.name = name\n",
    "        Person.count = Person.count + 1\n",
    "    \n",
    "    @classmethod\n",
    "    def number_of_population(cls):\n",
    "        print(f'인구수는 {cls.count}입니다')\n",
    "        "
   ]
  },
  {
   "cell_type": "code",
   "execution_count": 41,
   "id": "f63b738d",
   "metadata": {},
   "outputs": [
    {
     "name": "stdout",
     "output_type": "stream",
     "text": [
      "2\n"
     ]
    }
   ],
   "source": [
    "person1 = Person('아이유')\n",
    "person2 = Person('이찬혁')\n",
    "print(Person.count)"
   ]
  },
  {
   "cell_type": "code",
   "execution_count": 42,
   "id": "840f5b49",
   "metadata": {},
   "outputs": [
    {
     "ename": "AttributeError",
     "evalue": "'Person' object has no attribute 'number_of_polulation'",
     "output_type": "error",
     "traceback": [
      "\u001b[1;31m---------------------------------------------------------------------------\u001b[0m",
      "\u001b[1;31mAttributeError\u001b[0m                            Traceback (most recent call last)",
      "\u001b[1;32m<ipython-input-42-89cf41b6b229>\u001b[0m in \u001b[0;36m<module>\u001b[1;34m\u001b[0m\n\u001b[1;32m----> 1\u001b[1;33m \u001b[0mperson1\u001b[0m\u001b[1;33m.\u001b[0m\u001b[0mnumber_of_polulation\u001b[0m\u001b[1;33m(\u001b[0m\u001b[1;33m)\u001b[0m\u001b[1;33m\u001b[0m\u001b[1;33m\u001b[0m\u001b[0m\n\u001b[0m",
      "\u001b[1;31mAttributeError\u001b[0m: 'Person' object has no attribute 'number_of_polulation'"
     ]
    }
   ],
   "source": [
    "person1.number_of_polulation()  # number_of_polulation은 클래스 메소드이므로 인스턴스가 쓸 수 없다"
   ]
  },
  {
   "cell_type": "code",
   "execution_count": 43,
   "id": "bc691e84",
   "metadata": {},
   "outputs": [
    {
     "name": "stdout",
     "output_type": "stream",
     "text": [
      "인구수는 2입니다\n"
     ]
    }
   ],
   "source": [
    "Person.number_of_population()"
   ]
  },
  {
   "cell_type": "code",
   "execution_count": null,
   "id": "030e28f9",
   "metadata": {},
   "outputs": [],
   "source": []
  }
 ],
 "metadata": {
  "kernelspec": {
   "display_name": "Python 3",
   "language": "python",
   "name": "python3"
  },
  "language_info": {
   "codemirror_mode": {
    "name": "ipython",
    "version": 3
   },
   "file_extension": ".py",
   "mimetype": "text/x-python",
   "name": "python",
   "nbconvert_exporter": "python",
   "pygments_lexer": "ipython3",
   "version": "3.8.8"
  }
 },
 "nbformat": 4,
 "nbformat_minor": 5
}
