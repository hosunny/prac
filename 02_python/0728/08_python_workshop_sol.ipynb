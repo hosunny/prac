{
 "cells": [
  {
   "cell_type": "markdown",
   "id": "03a48b5c",
   "metadata": {},
   "source": [
    "# Python 08. 객체 지향 프로그래밍"
   ]
  },
  {
   "cell_type": "markdown",
   "id": "1b4a69ca",
   "metadata": {},
   "source": [
    "#. 도형 만들기\n",
    "아래의 명세를 읽고 Python 클래스를 활용하여 점(Point)과 사각형(Rectangle)을\u000b",
    "표현하시오.\n",
    "\n",
    "Point 클래스에 대한 명세는 다음과 같다.\n",
    "\n",
    "| 인스턴스 변수 | 타입 | 설명   |\n",
    "| ------------- | ---- | ------ |\n",
    "| x             | int  | x 좌표 |\n",
    "| y             | int  | y 좌표 |\n",
    "\n",
    "\n",
    "| 메서드   | 매개변수       | 반환값(타입) | 설명                                                         |\n",
    "| -------- | -------------- | ------------ | ------------------------------------------------------------ |\n",
    "| (생성자) | x 좌표, y 좌표 | 없음         | 인스턴스가 생성될 때, 전달받은 int 값들로<br />인스턴스 변수 x와 y를 초기화한다. |\n",
    "\n",
    "\n",
    "예를 들어, 좌표 (4, 3)의 점은 아래와 같이 표현할 수 있다.\n",
    "p1 = Point(4, 3)\n",
    "\n"
   ]
  },
  {
   "cell_type": "markdown",
   "id": "f92d2ec4",
   "metadata": {},
   "source": [
    "* 출력\n",
    "\n",
    "4\n",
    "\n",
    "8 \n",
    "\n",
    "True\n",
    "\n",
    "9\n",
    "\n",
    "12 \n",
    "\n",
    "True"
   ]
  },
  {
   "cell_type": "markdown",
   "id": "08d6a2f9",
   "metadata": {},
   "source": [
    "Rectangle 클래스에 대한 명세는 다음과 같다\n",
    "\n",
    "| 인스턴스 변수 | 타입           | 설명           |\n",
    "| ------------- | -------------- | -------------- |\n",
    "| p1            | Point 인스턴스 | 좌측 상단 좌표 |\n",
    "| p2            | Point 인스턴스 | 우측 하단 좌표 |\n",
    "\n",
    "| 메서드        | 매개변수                            | 반환값(타입)        | 설명                                                         |\n",
    "| ------------- | ----------------------------------- | ------------------- | ------------------------------------------------------------ |\n",
    "| (생성자)      | Point 인스턴스,<br />Point 인스턴스 | 없음                | 인스턴스가 생성 될 때 2개의 Point 인스턴스를 전달 받아, <br />인스턴스 변수 p1과 p2를 초기화한다. |\n",
    "| get_area      | 없음                                | 넓이(int)           | 사각형의 넓이를 계산하여 반환한다.                           |\n",
    "| get_perimeter | 없음                                | 둘레 길이(int)      | 사각형의 둘레 길이를 계산하여 반환한다.                      |\n",
    "| is_square     | 없음                                | 정사각형 유무(bool) | 사각형이 정사각형이면 True, 정사각형이 아니면 False를 반환한다. |"
   ]
  },
  {
   "cell_type": "code",
   "execution_count": 15,
   "id": "4490ab8a",
   "metadata": {},
   "outputs": [],
   "source": [
    "class Point:\n",
    "    def __init__(self, x , y):\n",
    "        self.x = x\n",
    "        self.y = y\n",
    "        \n",
    "class Rectangle:\n",
    "    def __init__(self, r1, r2):\n",
    "        self.p1 = r1\n",
    "        self.p2 = r2\n",
    "        \n",
    "        \n",
    "    def get_area(self):\n",
    "        return abs(self.p2.x - self.p1.x) *  abs(self.p2.y - self.p1.y)\n",
    "            \n",
    "    \n",
    "    def get_perimeter(self):\n",
    "        result = (abs(self.p2.x - self.p1.x) + abs(self.p2.y - self.p1.y)) * 2\n",
    "        return result\n",
    "        \n",
    "    def is_square(self):\n",
    "        if abs(self.p2.x - self.p1.x) == abs(self.p2.y - self.p1.y):\n",
    "                result = True\n",
    "        else:\n",
    "            result = False\n",
    "       \n",
    "        return result"
   ]
  },
  {
   "cell_type": "code",
   "execution_count": null,
   "id": "d89d2ce2",
   "metadata": {},
   "outputs": [],
   "source": [
    "# 방법 2 ( def  is_square(self))\n",
    "# def is_square(self):\n",
    "# return True if (abs(self.p2.x - self.p1.x) == abs(self.p2.y - self.p1.y)) else False"
   ]
  },
  {
   "cell_type": "code",
   "execution_count": 3,
   "id": "a1131dcc",
   "metadata": {},
   "outputs": [
    {
     "name": "stdout",
     "output_type": "stream",
     "text": [
      "4\n",
      "8\n",
      "True\n"
     ]
    }
   ],
   "source": [
    "p1 = Point(1, 3)\n",
    "p2 = Point(3, 1)\n",
    "r1 = Rectangle(p1, p2)\n",
    "print(r1.get_area())\n",
    "print(r1.get_perimeter())\n",
    "print(r1.is_square())"
   ]
  },
  {
   "cell_type": "code",
   "execution_count": 4,
   "id": "cfa67d2f",
   "metadata": {},
   "outputs": [
    {
     "name": "stdout",
     "output_type": "stream",
     "text": [
      "9\n",
      "12\n",
      "True\n"
     ]
    }
   ],
   "source": [
    "p3 = Point(3, 7)\n",
    "p4 = Point(6, 4)\n",
    "r2 = Rectangle(p3, p4)\n",
    "print(r2.get_area())\n",
    "print(r2.get_perimeter())\n",
    "print(r2.is_square())"
   ]
  },
  {
   "cell_type": "code",
   "execution_count": 1,
   "id": "f87e5479",
   "metadata": {},
   "outputs": [],
   "source": []
  },
  {
   "cell_type": "code",
   "execution_count": null,
   "id": "2175b285",
   "metadata": {},
   "outputs": [],
   "source": []
  }
 ],
 "metadata": {
  "kernelspec": {
   "display_name": "Python 3 (ipykernel)",
   "language": "python",
   "name": "python3"
  },
  "language_info": {
   "codemirror_mode": {
    "name": "ipython",
    "version": 3
   },
   "file_extension": ".py",
   "mimetype": "text/x-python",
   "name": "python",
   "nbconvert_exporter": "python",
   "pygments_lexer": "ipython3",
   "version": "3.9.13"
  }
 },
 "nbformat": 4,
 "nbformat_minor": 5
}
