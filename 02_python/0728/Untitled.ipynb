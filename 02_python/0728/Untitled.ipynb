{
 "cells": [
  {
   "cell_type": "code",
   "execution_count": 6,
   "id": "702471ab",
   "metadata": {},
   "outputs": [],
   "source": [
    "# 방법 1\n",
    "class Person:\n",
    "    def __init__(self, name, age):\n",
    "        self.name = name \n",
    "        self.age = age\n",
    "        \n",
    "    @classmethod\n",
    "    def details(cls, name, year):\n",
    "        cls.name = name\n",
    "        cls.year = 2022 - year\n",
    "        return cls(cls.name, cls.year)\n",
    "        \n",
    "    \n",
    "    def check_age(self):\n",
    "        if self.age <= 19 :\n",
    "            return True\n",
    "        else:\n",
    "            return False\n",
    "        "
   ]
  },
  {
   "cell_type": "code",
   "execution_count": 7,
   "id": "69ce57d0",
   "metadata": {},
   "outputs": [],
   "source": [
    "p1 = Person(\"sky\", 30)"
   ]
  },
  {
   "cell_type": "code",
   "execution_count": 8,
   "id": "78bb4968",
   "metadata": {},
   "outputs": [
    {
     "data": {
      "text/plain": [
       "'sky'"
      ]
     },
     "execution_count": 8,
     "metadata": {},
     "output_type": "execute_result"
    }
   ],
   "source": [
    "p1.name"
   ]
  },
  {
   "cell_type": "code",
   "execution_count": 9,
   "id": "a3ef8b60",
   "metadata": {},
   "outputs": [
    {
     "data": {
      "text/plain": [
       "30"
      ]
     },
     "execution_count": 9,
     "metadata": {},
     "output_type": "execute_result"
    }
   ],
   "source": [
    "p1.age"
   ]
  },
  {
   "cell_type": "code",
   "execution_count": 10,
   "id": "e1c1849e",
   "metadata": {},
   "outputs": [
    {
     "data": {
      "text/plain": [
       "False"
      ]
     },
     "execution_count": 10,
     "metadata": {},
     "output_type": "execute_result"
    }
   ],
   "source": [
    "p1.check_age()"
   ]
  },
  {
   "cell_type": "code",
   "execution_count": 11,
   "id": "3564a3b3",
   "metadata": {},
   "outputs": [],
   "source": [
    "p2 = Person.details(\"sky2\", 2010)"
   ]
  },
  {
   "cell_type": "code",
   "execution_count": 12,
   "id": "70451bbc",
   "metadata": {},
   "outputs": [
    {
     "data": {
      "text/plain": [
       "'sky2'"
      ]
     },
     "execution_count": 12,
     "metadata": {},
     "output_type": "execute_result"
    }
   ],
   "source": [
    "p2.name"
   ]
  },
  {
   "cell_type": "code",
   "execution_count": 13,
   "id": "3568f032",
   "metadata": {},
   "outputs": [
    {
     "data": {
      "text/plain": [
       "12"
      ]
     },
     "execution_count": 13,
     "metadata": {},
     "output_type": "execute_result"
    }
   ],
   "source": [
    "p2.age"
   ]
  },
  {
   "cell_type": "code",
   "execution_count": 14,
   "id": "a8a70eaa",
   "metadata": {},
   "outputs": [
    {
     "data": {
      "text/plain": [
       "True"
      ]
     },
     "execution_count": 14,
     "metadata": {},
     "output_type": "execute_result"
    }
   ],
   "source": [
    "p2.check_age()"
   ]
  },
  {
   "cell_type": "code",
   "execution_count": 15,
   "id": "5893a97d",
   "metadata": {},
   "outputs": [
    {
     "data": {
      "text/plain": [
       "<__main__.Person at 0x1868039ee20>"
      ]
     },
     "execution_count": 15,
     "metadata": {},
     "output_type": "execute_result"
    }
   ],
   "source": [
    "p1"
   ]
  },
  {
   "cell_type": "code",
   "execution_count": 16,
   "id": "124277ce",
   "metadata": {},
   "outputs": [
    {
     "data": {
      "text/plain": [
       "<__main__.Person at 0x1868039e2b0>"
      ]
     },
     "execution_count": 16,
     "metadata": {},
     "output_type": "execute_result"
    }
   ],
   "source": [
    "p2"
   ]
  },
  {
   "cell_type": "code",
   "execution_count": 24,
   "id": "8216da7e",
   "metadata": {},
   "outputs": [],
   "source": [
    "# 해당 년도를 반환하는 파이썬 라이브러리 - datetime\n",
    "\n",
    "from datetime import date\n",
    "\n"
   ]
  },
  {
   "cell_type": "code",
   "execution_count": 30,
   "id": "b1c4ef45",
   "metadata": {},
   "outputs": [
    {
     "data": {
      "text/plain": [
       "2022"
      ]
     },
     "execution_count": 30,
     "metadata": {},
     "output_type": "execute_result"
    }
   ],
   "source": [
    "date.today().year"
   ]
  },
  {
   "cell_type": "code",
   "execution_count": 17,
   "id": "5880c78f",
   "metadata": {},
   "outputs": [],
   "source": [
    "# 방법 2\n",
    "from datetime import date\n",
    "\n",
    "class Person:\n",
    "    def __init__(self, name, age):\n",
    "        self.name = name \n",
    "        self.age = age\n",
    "        \n",
    "    @classmethod\n",
    "    def details(cls, name, year):\n",
    "        return cls(name, date.today().year - year)\n",
    "        \n",
    "    \n",
    "    def check_age(self):\n",
    "        if self.age <= 19 :\n",
    "            return True\n",
    "        else:\n",
    "            return False\n",
    "        "
   ]
  },
  {
   "cell_type": "code",
   "execution_count": 18,
   "id": "ec4120d4",
   "metadata": {},
   "outputs": [],
   "source": [
    "p3 = Person.details(\"sky3\", 2005)"
   ]
  },
  {
   "cell_type": "code",
   "execution_count": 19,
   "id": "9ab32f7c",
   "metadata": {},
   "outputs": [
    {
     "data": {
      "text/plain": [
       "'sky3'"
      ]
     },
     "execution_count": 19,
     "metadata": {},
     "output_type": "execute_result"
    }
   ],
   "source": [
    "p3.name"
   ]
  },
  {
   "cell_type": "code",
   "execution_count": 20,
   "id": "cb62ff16",
   "metadata": {},
   "outputs": [
    {
     "data": {
      "text/plain": [
       "17"
      ]
     },
     "execution_count": 20,
     "metadata": {},
     "output_type": "execute_result"
    }
   ],
   "source": [
    "p3.age"
   ]
  },
  {
   "cell_type": "code",
   "execution_count": 21,
   "id": "eb025cd4",
   "metadata": {},
   "outputs": [
    {
     "data": {
      "text/plain": [
       "True"
      ]
     },
     "execution_count": 21,
     "metadata": {},
     "output_type": "execute_result"
    }
   ],
   "source": [
    "p3.check_age()"
   ]
  },
  {
   "cell_type": "code",
   "execution_count": 22,
   "id": "b4e8c691",
   "metadata": {},
   "outputs": [
    {
     "data": {
      "text/plain": [
       "<__main__.Person at 0x18680748820>"
      ]
     },
     "execution_count": 22,
     "metadata": {},
     "output_type": "execute_result"
    }
   ],
   "source": [
    "p3"
   ]
  },
  {
   "cell_type": "code",
   "execution_count": null,
   "id": "c6e68a85",
   "metadata": {},
   "outputs": [],
   "source": []
  }
 ],
 "metadata": {
  "kernelspec": {
   "display_name": "Python 3 (ipykernel)",
   "language": "python",
   "name": "python3"
  },
  "language_info": {
   "codemirror_mode": {
    "name": "ipython",
    "version": 3
   },
   "file_extension": ".py",
   "mimetype": "text/x-python",
   "name": "python",
   "nbconvert_exporter": "python",
   "pygments_lexer": "ipython3",
   "version": "3.9.13"
  }
 },
 "nbformat": 4,
 "nbformat_minor": 5
}
