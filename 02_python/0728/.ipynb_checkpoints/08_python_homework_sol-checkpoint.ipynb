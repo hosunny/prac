{
 "cells": [
  {
   "cell_type": "markdown",
   "id": "54562b53",
   "metadata": {},
   "source": [
    "# Python 08. 객체 지향 프로그래밍\n"
   ]
  },
  {
   "cell_type": "markdown",
   "id": "642685cf",
   "metadata": {},
   "source": [
    "### 1. Circle 인스턴스 만들기\n",
    "아래와 같은 Circle 클래스가 있을 때, 반지름이 3이고 x, y좌표가 (2, 4)인\u000b",
    "Circle 인스턴스를 만들어 넓이와 둘레를 출력하시오\n",
    "\n",
    "```python\n",
    "\n",
    "class Circle:\n",
    "    pi = 3.14\n",
    "\u000b",
    "    def _ _init_ _(self, r, x, y):\n",
    "        self.r = r\n",
    "        self.x = x\n",
    "        self.y = y\n",
    "\n",
    "    def area(self):\n",
    "        return Circle.pi * self.r * self.r\n",
    "    \n",
    "    def circumference(self):\n",
    "        return 2 * Circle.pi * self.r\n",
    "\n",
    "    def center(self):\n",
    "        return (self.x, self.y)\n"
   ]
  },
  {
   "cell_type": "code",
   "execution_count": null,
   "id": "728d4950",
   "metadata": {},
   "outputs": [],
   "source": []
  },
  {
   "cell_type": "code",
   "execution_count": null,
   "id": "66ce4fbc",
   "metadata": {},
   "outputs": [],
   "source": []
  },
  {
   "cell_type": "code",
   "execution_count": null,
   "id": "58e11696",
   "metadata": {},
   "outputs": [],
   "source": []
  },
  {
   "cell_type": "code",
   "execution_count": null,
   "id": "180b51f0",
   "metadata": {},
   "outputs": [],
   "source": []
  },
  {
   "cell_type": "markdown",
   "id": "acbc16c5",
   "metadata": {},
   "source": [
    "\n",
    "### 2. Dog과 Bird는 Animal이다\n",
    "다음과 같이 Animal 클래스가 주어질 때, 해당 클래스를 상속 받아 아래의 보기와 같이 동작하는 Dog 클래스와 Bird 클래스를 작성하시오.\n",
    "\n",
    "```python\n",
    "\n",
    "class Animal:\n",
    "    def _ _init_ _(self, name):\n",
    "        self.name = name\n",
    "    def walk(self):\n",
    "        print(f'{self.name}! 걷는다!’)\n",
    "\n",
    "    def eat(self):\n",
    "        print(f'{self.name}! 먹는다!')\n",
    "              \n",
    "dog = Dog('꼽이')\n",
    "dog.run()  # 꼽이! 달린다! \n",
    "dog.bark() # 꼽이! 짖는다! \n",
    "bird = Bird('구구')\n",
    "bird.walk() # 구구! 걷는다! \n",
    "bird.eat()  # 구구! 먹는다! \n",
    "bird.fly()  # 구구! 푸드덕! \n",
    "\n",
    "\n"
   ]
  },
  {
   "cell_type": "code",
   "execution_count": null,
   "id": "46f3539d",
   "metadata": {},
   "outputs": [],
   "source": []
  },
  {
   "cell_type": "code",
   "execution_count": null,
   "id": "1245de62",
   "metadata": {},
   "outputs": [],
   "source": []
  },
  {
   "cell_type": "code",
   "execution_count": null,
   "id": "3b56bf71",
   "metadata": {},
   "outputs": [],
   "source": []
  },
  {
   "cell_type": "markdown",
   "id": "e0cfc4ac",
   "metadata": {},
   "source": [
    "### 3. Module Import\n",
    "\n",
    "```python\n",
    "# fibo.py\n",
    "def fibo_recursion(n):\n",
    "if n < 2:\n",
    "return n\n",
    "else:\n",
    "return fibo_recursion(n-1) + fibo_recursion(n-2)\n",
    "\n",
    "위와 같은 코드가 같은 폴더 안의 fibo.py 파일에 작성되어 있을 때, 아래와 같은 형태로\n",
    "함수를 실행 할 수 있도록 하는 import 문을 빈칸 (a), (b), (c)를 채워 넣어 완성하시오.\n",
    "\n",
    "from __(a)__ import __(b)__ as __(c)__\n",
    "\n",
    "recursion(4)"
   ]
  },
  {
   "cell_type": "code",
   "execution_count": null,
   "id": "7c70b5fd",
   "metadata": {},
   "outputs": [],
   "source": []
  }
 ],
 "metadata": {
  "kernelspec": {
   "display_name": "Python 3 (ipykernel)",
   "language": "python",
   "name": "python3"
  },
  "language_info": {
   "codemirror_mode": {
    "name": "ipython",
    "version": 3
   },
   "file_extension": ".py",
   "mimetype": "text/x-python",
   "name": "python",
   "nbconvert_exporter": "python",
   "pygments_lexer": "ipython3",
   "version": "3.9.13"
  }
 },
 "nbformat": 4,
 "nbformat_minor": 5
}
