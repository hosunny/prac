{
 "cells": [
  {
   "cell_type": "markdown",
   "metadata": {},
   "source": [
    "# Python 05. 데이터 구조 및 활용"
   ]
  },
  {
   "cell_type": "markdown",
   "metadata": {},
   "source": [
    "### 1. 모음은 몇 개나 있을까?\n",
    "문자열을 전달 받아 해당 문자열의 모음 갯수를 반환하는 count_vowels 함수를\n",
    "작성하시오. .count() 메서드를 활용하여 작성하시오"
   ]
  },
  {
   "cell_type": "code",
   "execution_count": 13,
   "metadata": {},
   "outputs": [],
   "source": [
    "def count_vowels(word):\n",
    "    vowels = 'aeiou'\n",
    "    result = 0\n",
    "    for each in vowels:\n",
    "        if each in word:\n",
    "            result = result + word.count(each)\n",
    "    return result"
   ]
  },
  {
   "cell_type": "code",
   "execution_count": 14,
   "metadata": {},
   "outputs": [
    {
     "data": {
      "text/plain": [
       "3"
      ]
     },
     "execution_count": 14,
     "metadata": {},
     "output_type": "execute_result"
    }
   ],
   "source": [
    "count_vowels('banana')"
   ]
  },
  {
   "cell_type": "markdown",
   "metadata": {},
   "source": [
    "### 2. 문자열 조작\n",
    "다음 중, 문자열(string)을 조작하는 방법으로 옳지 않은 것을 고르시오"
   ]
  },
  {
   "cell_type": "markdown",
   "metadata": {},
   "source": [
    "(1) .find(x)는 x의 첫번째 위치를 반환한다. 없으면 -1을 반환한다.\n",
    "(2) .split([chars])은 특정 문자를 지정하면 문자열을 특정 문자를\n",
    "기준으로 나누어 list로 반환한다. \n",
    "\n",
    "특정 문자를 지정하지 않으면 공백을 기준으로 나눈다.\n",
    "\n",
    "(3) .replace(old, new[, count])는 바꿀 대상 문자를 새로운 문자로\n",
    "바꿔서 반환한다.\n",
    "\n",
    "(4) .strip([chars])은 특정 문자를 지정하면, 양쪽에서 해당 문자를\n",
    "찾아 제거한다. 특정 문자를 지정하지 않으면 오류가 발생한다."
   ]
  },
  {
   "cell_type": "code",
   "execution_count": 27,
   "metadata": {},
   "outputs": [
    {
     "data": {
      "text/plain": [
       "'jurassic####'"
      ]
     },
     "execution_count": 27,
     "metadata": {},
     "output_type": "execute_result"
    }
   ],
   "source": [
    "'    jurassic####'.strip()"
   ]
  },
  {
   "cell_type": "code",
   "execution_count": null,
   "metadata": {},
   "outputs": [],
   "source": []
  },
  {
   "cell_type": "markdown",
   "metadata": {},
   "source": [
    "### 3. 정사각형만 만들기\n",
    "각각 너비와 높이의 값으로 이루어진 2개의 list를 전달 받아, 각각의 값들을 조합하여\n",
    "만들 수 있는 정사각형만의 넓이를 담은 list를 반환하는 only_square_area 함수를\n",
    "작성하시오\n",
    "```python\n",
    "only_square_area([32, 55, 63], [13, 32, 40, 55])\n",
    "# => [1024, 3025]"
   ]
  },
  {
   "cell_type": "code",
   "execution_count": 36,
   "metadata": {},
   "outputs": [],
   "source": [
    "def only_square_area(widths, heights):\n",
    "    square_combination =[]\n",
    "    for width in widths:\n",
    "        for height in heights:\n",
    "            if width == height:\n",
    "                square_combination.append(width * height)\n",
    "               \n",
    "    return square_combination"
   ]
  },
  {
   "cell_type": "code",
   "execution_count": 38,
   "metadata": {},
   "outputs": [],
   "source": [
    "#  방법2 list comprehension으로 풀기\n",
    "def only_square_area(widths, heights):\n",
    "    square_combination = [ width * height for width in widths for height in heights if width == height]\n",
    "    return square_combination"
   ]
  },
  {
   "cell_type": "code",
   "execution_count": 39,
   "metadata": {},
   "outputs": [
    {
     "data": {
      "text/plain": [
       "[1024, 3025]"
      ]
     },
     "execution_count": 39,
     "metadata": {},
     "output_type": "execute_result"
    }
   ],
   "source": [
    "only_square_area([32, 55, 63], [13, 32, 40, 55])"
   ]
  },
  {
   "cell_type": "code",
   "execution_count": null,
   "metadata": {},
   "outputs": [],
   "source": [
    "\n"
   ]
  },
  {
   "cell_type": "code",
   "execution_count": null,
   "metadata": {},
   "outputs": [],
   "source": []
  },
  {
   "cell_type": "markdown",
   "metadata": {},
   "source": []
  }
 ],
 "metadata": {
  "kernelspec": {
   "display_name": "Python 3.9.13 64-bit",
   "language": "python",
   "name": "python3"
  },
  "language_info": {
   "codemirror_mode": {
    "name": "ipython",
    "version": 3
   },
   "file_extension": ".py",
   "mimetype": "text/x-python",
   "name": "python",
   "nbconvert_exporter": "python",
   "pygments_lexer": "ipython3",
   "version": "3.9.13"
  },
  "orig_nbformat": 4,
  "vscode": {
   "interpreter": {
    "hash": "c4b9ebf4ca459396e2ad1150752490c26670c1a037c08cad955a4425787bec2e"
   }
  }
 },
 "nbformat": 4,
 "nbformat_minor": 2
}
